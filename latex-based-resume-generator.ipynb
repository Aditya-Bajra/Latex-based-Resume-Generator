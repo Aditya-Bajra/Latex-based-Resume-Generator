{
 "cells": [
  {
   "cell_type": "markdown",
   "id": "7d459577",
   "metadata": {
    "papermill": {
     "duration": 0.004774,
     "end_time": "2025-04-19T08:03:39.542390",
     "exception": false,
     "start_time": "2025-04-19T08:03:39.537616",
     "status": "completed"
    },
    "tags": []
   },
   "source": [
    "# LaTeX-based Resume Generator\n",
    "\n",
    "## Problem Statement\n",
    "Creating a professional, well-formatted resume in LaTeX is difficult for most applicants, especially those unfamiliar with LaTeX syntax. Editing and reformatting an existing resume to match a new template is tedious and error-prone. Applicants often want to quickly generate a resume from raw text or update its style—without wrestling with LaTeX code.\n",
    "\n",
    "## Solution Overview\n",
    "While there are platforms like overleaf where editing LaTeX documents are way easier, we have brought something simpler. This notebook demonstrates the use of Generative AI (Google Gemini) to:\n",
    "\n",
    "* Parse your plain text resume and extract all important details automatically.\n",
    "* Instantly generate a new LaTeX resume in your chosen style, simply by uploading a sample template.\n",
    "* Eliminate the need for manual LaTeX editing, making it easy to create or reformat resumes for any application.\n",
    "\n",
    "By combining GenAI’s text understanding with LaTeX’s formatting power, applicants can generate professional resumes in any style—hassle-free."
   ]
  },
  {
   "cell_type": "markdown",
   "id": "096cd9e9",
   "metadata": {
    "papermill": {
     "duration": 0.003763,
     "end_time": "2025-04-19T08:03:39.550453",
     "exception": false,
     "start_time": "2025-04-19T08:03:39.546690",
     "status": "completed"
    },
    "tags": []
   },
   "source": [
    "## Install Required Packages and Tools\n",
    "\n",
    "We install:\n",
    "* **google-genai**: To access Google Gemini for parsing and generating resume content.\n",
    "* **LaTeX packages**: To compile the AI-generated LaTeX code into a PDF resume."
   ]
  },
  {
   "cell_type": "code",
   "execution_count": 1,
   "id": "a0dafe75",
   "metadata": {
    "_cell_guid": "b1076dfc-b9ad-4769-8c92-a6c4dae69d19",
    "_uuid": "8f2839f25d086af736a60e9eeb907d3b93b6e0e5",
    "execution": {
     "iopub.execute_input": "2025-04-19T08:03:39.559961Z",
     "iopub.status.busy": "2025-04-19T08:03:39.559644Z",
     "iopub.status.idle": "2025-04-19T08:04:47.295204Z",
     "shell.execute_reply": "2025-04-19T08:04:47.294015Z"
    },
    "papermill": {
     "duration": 67.74247,
     "end_time": "2025-04-19T08:04:47.297035",
     "exception": false,
     "start_time": "2025-04-19T08:03:39.554565",
     "status": "completed"
    },
    "tags": []
   },
   "outputs": [
    {
     "name": "stdout",
     "output_type": "stream",
     "text": [
      "\u001b[2K   \u001b[90m━━━━━━━━━━━━━━━━━━━━━━━━━━━━━━━━━━━━━━━━\u001b[0m \u001b[32m144.7/144.7 kB\u001b[0m \u001b[31m6.0 MB/s\u001b[0m eta \u001b[36m0:00:00\u001b[0m\r\n",
      "\u001b[2K   \u001b[90m━━━━━━━━━━━━━━━━━━━━━━━━━━━━━━━━━━━━━━━━\u001b[0m \u001b[32m100.9/100.9 kB\u001b[0m \u001b[31m2.2 MB/s\u001b[0m eta \u001b[36m0:00:00\u001b[0m\r\n",
      "Get:1 https://cloud.r-project.org/bin/linux/ubuntu jammy-cran40/ InRelease [3,632 B]\r\n",
      "Get:2 https://developer.download.nvidia.com/compute/cuda/repos/ubuntu2204/x86_64  InRelease [1,581 B]\r\n",
      "Get:3 http://security.ubuntu.com/ubuntu jammy-security InRelease [129 kB]\r\n",
      "Get:4 https://ppa.launchpadcontent.net/deadsnakes/ppa/ubuntu jammy InRelease [18.1 kB]\r\n",
      "Hit:5 http://archive.ubuntu.com/ubuntu jammy InRelease\r\n",
      "Hit:6 https://ppa.launchpadcontent.net/graphics-drivers/ppa/ubuntu jammy InRelease\r\n",
      "Hit:7 https://ppa.launchpadcontent.net/ubuntugis/ppa/ubuntu jammy InRelease\r\n",
      "Get:8 http://archive.ubuntu.com/ubuntu jammy-updates InRelease [128 kB]\r\n",
      "Get:9 https://cloud.r-project.org/bin/linux/ubuntu jammy-cran40/ Packages [73.0 kB]\r\n",
      "Get:10 https://developer.download.nvidia.com/compute/cuda/repos/ubuntu2204/x86_64  Packages [1,604 kB]\r\n",
      "Get:11 https://r2u.stat.illinois.edu/ubuntu jammy InRelease [6,555 B]\r\n",
      "Get:12 https://ppa.launchpadcontent.net/deadsnakes/ppa/ubuntu jammy/main amd64 Packages [34.3 kB]\r\n",
      "Get:13 http://archive.ubuntu.com/ubuntu jammy-backports InRelease [127 kB]\r\n",
      "Get:14 http://security.ubuntu.com/ubuntu jammy-security/universe amd64 Packages [1,243 kB]\r\n",
      "Get:15 https://r2u.stat.illinois.edu/ubuntu jammy/main amd64 Packages [2,697 kB]\r\n",
      "Get:16 http://archive.ubuntu.com/ubuntu jammy-updates/universe amd64 Packages [1,542 kB]\r\n",
      "Get:17 http://security.ubuntu.com/ubuntu jammy-security/main amd64 Packages [2,788 kB]\r\n",
      "Get:18 http://archive.ubuntu.com/ubuntu jammy-updates/restricted amd64 Packages [4,246 kB]\r\n",
      "Get:19 http://archive.ubuntu.com/ubuntu jammy-updates/main amd64 Packages [3,140 kB]\r\n",
      "Get:20 http://archive.ubuntu.com/ubuntu jammy-backports/universe amd64 Packages [35.2 kB]\r\n",
      "Get:21 https://r2u.stat.illinois.edu/ubuntu jammy/main all Packages [8,844 kB]\r\n",
      "Fetched 26.7 MB in 3s (8,119 kB/s)\r\n",
      "\r\n",
      "W: Skipping acquire of configured file 'main/source/Sources' as repository 'https://r2u.stat.illinois.edu/ubuntu jammy InRelease' does not seem to provide it (sources.list entry misspelt?)\r\n",
      "\r\n",
      "\r\n",
      "\r\n",
      "The following additional packages will be installed:\r\n",
      "  dvisvgm fonts-lato fonts-lmodern fonts-texgyre libapache-pom-java libcommons-logging-java\r\n",
      "  libcommons-parent-java libfontbox-java libkpathsea6 libpdfbox-java libptexenc1 libruby3.0\r\n",
      "  libsynctex2 libteckit0 libtexlua53 libtexluajit2 libwoff1 libzzip-0-13 lmodern\r\n",
      "  preview-latex-style rake ruby ruby-net-telnet ruby-rubygems ruby-webrick ruby-xmlrpc ruby3.0\r\n",
      "  rubygems-integration t1utils tex-common tex-gyre texlive-base texlive-binaries\r\n",
      "  texlive-latex-recommended texlive-pictures texlive-plain-generic tipa\r\n",
      "Suggested packages:\r\n",
      "  libavalon-framework-java libcommons-logging-java-doc libexcalibur-logkit-java liblog4j1.2-java ri\r\n",
      "  ruby-dev bundler debhelper perl-tk xpdf | pdf-viewer xzdec texlive-fonts-recommended-doc\r\n",
      "  texlive-latex-base-doc python3-pygments icc-profiles libfile-which-perl\r\n",
      "  libspreadsheet-parseexcel-perl texlive-latex-extra-doc texlive-latex-recommended-doc\r\n",
      "  texlive-luatex texlive-pstricks dot2tex prerex texlive-pictures-doc vprerex default-jre-headless\r\n",
      "  tipa-doc\r\n",
      "The following NEW packages will be installed:\r\n",
      "  dvisvgm fonts-lato fonts-lmodern fonts-texgyre libapache-pom-java libcommons-logging-java\r\n",
      "  libcommons-parent-java libfontbox-java libkpathsea6 libpdfbox-java libptexenc1 libruby3.0\r\n",
      "  libsynctex2 libteckit0 libtexlua53 libtexluajit2 libwoff1 libzzip-0-13 lmodern\r\n",
      "  preview-latex-style rake ruby ruby-net-telnet ruby-rubygems ruby-webrick ruby-xmlrpc ruby3.0\r\n",
      "  rubygems-integration t1utils tex-common tex-gyre texlive-base texlive-binaries\r\n",
      "  texlive-fonts-recommended texlive-latex-base texlive-latex-extra texlive-latex-recommended\r\n",
      "  texlive-pictures texlive-plain-generic tipa\r\n",
      "0 upgraded, 40 newly installed, 0 to remove and 146 not upgraded.\r\n",
      "Need to get 151 MB of archives.\r\n",
      "After this operation, 488 MB of additional disk space will be used.\r\n",
      "Get:1 http://archive.ubuntu.com/ubuntu jammy/main amd64 fonts-lato all 2.0-2.1 [2,696 kB]\r\n",
      "Get:2 http://archive.ubuntu.com/ubuntu jammy/universe amd64 tex-common all 6.17 [33.7 kB]\r\n",
      "Get:3 http://archive.ubuntu.com/ubuntu jammy-updates/main amd64 libkpathsea6 amd64 2021.20210626.59705-1ubuntu0.2 [60.4 kB]\r\n",
      "Get:4 http://archive.ubuntu.com/ubuntu jammy/main amd64 libwoff1 amd64 1.0.2-1build4 [45.2 kB]\r\n",
      "Get:5 http://archive.ubuntu.com/ubuntu jammy/universe amd64 dvisvgm amd64 2.13.1-1 [1,221 kB]\r\n",
      "Get:6 http://archive.ubuntu.com/ubuntu jammy/universe amd64 fonts-lmodern all 2.004.5-6.1 [4,532 kB]\r\n",
      "Get:7 http://archive.ubuntu.com/ubuntu jammy/universe amd64 fonts-texgyre all 20180621-3.1 [10.2 MB]\r\n",
      "Get:8 http://archive.ubuntu.com/ubuntu jammy/universe amd64 libapache-pom-java all 18-1 [4,720 B]\r\n",
      "Get:9 http://archive.ubuntu.com/ubuntu jammy/universe amd64 libcommons-parent-java all 43-1 [10.8 kB]\r\n",
      "Get:10 http://archive.ubuntu.com/ubuntu jammy/universe amd64 libcommons-logging-java all 1.2-2 [60.3 kB]\r\n",
      "Get:11 http://archive.ubuntu.com/ubuntu jammy-updates/main amd64 libptexenc1 amd64 2021.20210626.59705-1ubuntu0.2 [39.1 kB]\r\n",
      "Get:12 http://archive.ubuntu.com/ubuntu jammy/main amd64 rubygems-integration all 1.18 [5,336 B]\r\n",
      "Get:13 http://archive.ubuntu.com/ubuntu jammy-updates/main amd64 ruby3.0 amd64 3.0.2-7ubuntu2.10 [50.1 kB]\r\n",
      "Get:14 http://archive.ubuntu.com/ubuntu jammy/main amd64 ruby-rubygems all 3.3.5-2 [228 kB]\r\n",
      "Get:15 http://archive.ubuntu.com/ubuntu jammy/main amd64 ruby amd64 1:3.0~exp1 [5,100 B]\r\n",
      "Get:16 http://archive.ubuntu.com/ubuntu jammy/main amd64 rake all 13.0.6-2 [61.7 kB]\r\n",
      "Get:17 http://archive.ubuntu.com/ubuntu jammy/main amd64 ruby-net-telnet all 0.1.1-2 [12.6 kB]\r\n",
      "Get:18 http://archive.ubuntu.com/ubuntu jammy-updates/main amd64 ruby-webrick all 1.7.0-3ubuntu0.1 [52.1 kB]\r\n",
      "Get:19 http://archive.ubuntu.com/ubuntu jammy-updates/main amd64 ruby-xmlrpc all 0.3.2-1ubuntu0.1 [24.9 kB]\r\n",
      "Get:20 http://archive.ubuntu.com/ubuntu jammy-updates/main amd64 libruby3.0 amd64 3.0.2-7ubuntu2.10 [5,114 kB]\r\n",
      "Get:21 http://archive.ubuntu.com/ubuntu jammy-updates/main amd64 libsynctex2 amd64 2021.20210626.59705-1ubuntu0.2 [55.6 kB]\r\n",
      "Get:22 http://archive.ubuntu.com/ubuntu jammy/universe amd64 libteckit0 amd64 2.5.11+ds1-1 [421 kB]\r\n",
      "Get:23 http://archive.ubuntu.com/ubuntu jammy-updates/main amd64 libtexlua53 amd64 2021.20210626.59705-1ubuntu0.2 [120 kB]\r\n",
      "Get:24 http://archive.ubuntu.com/ubuntu jammy-updates/main amd64 libtexluajit2 amd64 2021.20210626.59705-1ubuntu0.2 [267 kB]\r\n",
      "Get:25 http://archive.ubuntu.com/ubuntu jammy/universe amd64 libzzip-0-13 amd64 0.13.72+dfsg.1-1.1 [27.0 kB]\r\n",
      "Get:26 http://archive.ubuntu.com/ubuntu jammy/universe amd64 lmodern all 2.004.5-6.1 [9,471 kB]\r\n",
      "Get:27 http://archive.ubuntu.com/ubuntu jammy/universe amd64 preview-latex-style all 12.2-1ubuntu1 [185 kB]\r\n",
      "Get:28 http://archive.ubuntu.com/ubuntu jammy/main amd64 t1utils amd64 1.41-4build2 [61.3 kB]\r\n",
      "Get:29 http://archive.ubuntu.com/ubuntu jammy/universe amd64 tex-gyre all 20180621-3.1 [6,209 kB]\r\n",
      "Get:30 http://archive.ubuntu.com/ubuntu jammy-updates/universe amd64 texlive-binaries amd64 2021.20210626.59705-1ubuntu0.2 [9,860 kB]\r\n",
      "Get:31 http://archive.ubuntu.com/ubuntu jammy/universe amd64 texlive-base all 2021.20220204-1 [21.0 MB]\r\n",
      "Get:32 http://archive.ubuntu.com/ubuntu jammy/universe amd64 texlive-fonts-recommended all 2021.20220204-1 [4,972 kB]\r\n",
      "Get:33 http://archive.ubuntu.com/ubuntu jammy/universe amd64 texlive-latex-base all 2021.20220204-1 [1,128 kB]\r\n",
      "Get:34 http://archive.ubuntu.com/ubuntu jammy/universe amd64 libfontbox-java all 1:1.8.16-2 [207 kB]\r\n",
      "Get:35 http://archive.ubuntu.com/ubuntu jammy/universe amd64 libpdfbox-java all 1:1.8.16-2 [5,199 kB]\r\n",
      "Get:36 http://archive.ubuntu.com/ubuntu jammy/universe amd64 texlive-latex-recommended all 2021.20220204-1 [14.4 MB]\r\n",
      "Get:37 http://archive.ubuntu.com/ubuntu jammy/universe amd64 texlive-pictures all 2021.20220204-1 [8,720 kB]\r\n",
      "Get:38 http://archive.ubuntu.com/ubuntu jammy/universe amd64 texlive-latex-extra all 2021.20220204-1 [13.9 MB]\r\n",
      "Get:39 http://archive.ubuntu.com/ubuntu jammy/universe amd64 texlive-plain-generic all 2021.20220204-1 [27.5 MB]\r\n",
      "Get:40 http://archive.ubuntu.com/ubuntu jammy/universe amd64 tipa all 2:1.3-21 [2,967 kB]\r\n",
      "Fetched 151 MB in 2s (81.0 MB/s)\r\n",
      "Extracting templates from packages: 100%\r\n",
      "Preconfiguring packages ...\r\n",
      "Selecting previously unselected package fonts-lato.\r\n",
      "(Reading database ... 128691 files and directories currently installed.)\r\n",
      "Preparing to unpack .../00-fonts-lato_2.0-2.1_all.deb ...\r\n",
      "Unpacking fonts-lato (2.0-2.1) ...\r\n",
      "Selecting previously unselected package tex-common.\r\n",
      "Preparing to unpack .../01-tex-common_6.17_all.deb ...\r\n",
      "Unpacking tex-common (6.17) ...\r\n",
      "Selecting previously unselected package libkpathsea6:amd64.\r\n",
      "Preparing to unpack .../02-libkpathsea6_2021.20210626.59705-1ubuntu0.2_amd64.deb ...\r\n",
      "Unpacking libkpathsea6:amd64 (2021.20210626.59705-1ubuntu0.2) ...\r\n",
      "Selecting previously unselected package libwoff1:amd64.\r\n",
      "Preparing to unpack .../03-libwoff1_1.0.2-1build4_amd64.deb ...\r\n",
      "Unpacking libwoff1:amd64 (1.0.2-1build4) ...\r\n",
      "Selecting previously unselected package dvisvgm.\r\n",
      "Preparing to unpack .../04-dvisvgm_2.13.1-1_amd64.deb ...\r\n",
      "Unpacking dvisvgm (2.13.1-1) ...\r\n",
      "Selecting previously unselected package fonts-lmodern.\r\n",
      "Preparing to unpack .../05-fonts-lmodern_2.004.5-6.1_all.deb ...\r\n",
      "Unpacking fonts-lmodern (2.004.5-6.1) ...\r\n",
      "Selecting previously unselected package fonts-texgyre.\r\n",
      "Preparing to unpack .../06-fonts-texgyre_20180621-3.1_all.deb ...\r\n",
      "Unpacking fonts-texgyre (20180621-3.1) ...\r\n",
      "Selecting previously unselected package libapache-pom-java.\r\n",
      "Preparing to unpack .../07-libapache-pom-java_18-1_all.deb ...\r\n",
      "Unpacking libapache-pom-java (18-1) ...\r\n",
      "Selecting previously unselected package libcommons-parent-java.\r\n",
      "Preparing to unpack .../08-libcommons-parent-java_43-1_all.deb ...\r\n",
      "Unpacking libcommons-parent-java (43-1) ...\r\n",
      "Selecting previously unselected package libcommons-logging-java.\r\n",
      "Preparing to unpack .../09-libcommons-logging-java_1.2-2_all.deb ...\r\n",
      "Unpacking libcommons-logging-java (1.2-2) ...\r\n",
      "Selecting previously unselected package libptexenc1:amd64.\r\n",
      "Preparing to unpack .../10-libptexenc1_2021.20210626.59705-1ubuntu0.2_amd64.deb ...\r\n",
      "Unpacking libptexenc1:amd64 (2021.20210626.59705-1ubuntu0.2) ...\r\n",
      "Selecting previously unselected package rubygems-integration.\r\n",
      "Preparing to unpack .../11-rubygems-integration_1.18_all.deb ...\r\n",
      "Unpacking rubygems-integration (1.18) ...\r\n",
      "Selecting previously unselected package ruby3.0.\r\n",
      "Preparing to unpack .../12-ruby3.0_3.0.2-7ubuntu2.10_amd64.deb ...\r\n",
      "Unpacking ruby3.0 (3.0.2-7ubuntu2.10) ...\r\n",
      "Selecting previously unselected package ruby-rubygems.\r\n",
      "Preparing to unpack .../13-ruby-rubygems_3.3.5-2_all.deb ...\r\n",
      "Unpacking ruby-rubygems (3.3.5-2) ...\r\n",
      "Selecting previously unselected package ruby.\r\n",
      "Preparing to unpack .../14-ruby_1%3a3.0~exp1_amd64.deb ...\r\n",
      "Unpacking ruby (1:3.0~exp1) ...\r\n",
      "Selecting previously unselected package rake.\r\n",
      "Preparing to unpack .../15-rake_13.0.6-2_all.deb ...\r\n",
      "Unpacking rake (13.0.6-2) ...\r\n",
      "Selecting previously unselected package ruby-net-telnet.\r\n",
      "Preparing to unpack .../16-ruby-net-telnet_0.1.1-2_all.deb ...\r\n",
      "Unpacking ruby-net-telnet (0.1.1-2) ...\r\n",
      "Selecting previously unselected package ruby-webrick.\r\n",
      "Preparing to unpack .../17-ruby-webrick_1.7.0-3ubuntu0.1_all.deb ...\r\n",
      "Unpacking ruby-webrick (1.7.0-3ubuntu0.1) ...\r\n",
      "Selecting previously unselected package ruby-xmlrpc.\r\n",
      "Preparing to unpack .../18-ruby-xmlrpc_0.3.2-1ubuntu0.1_all.deb ...\r\n",
      "Unpacking ruby-xmlrpc (0.3.2-1ubuntu0.1) ...\r\n",
      "Selecting previously unselected package libruby3.0:amd64.\r\n",
      "Preparing to unpack .../19-libruby3.0_3.0.2-7ubuntu2.10_amd64.deb ...\r\n",
      "Unpacking libruby3.0:amd64 (3.0.2-7ubuntu2.10) ...\r\n",
      "Selecting previously unselected package libsynctex2:amd64.\r\n",
      "Preparing to unpack .../20-libsynctex2_2021.20210626.59705-1ubuntu0.2_amd64.deb ...\r\n",
      "Unpacking libsynctex2:amd64 (2021.20210626.59705-1ubuntu0.2) ...\r\n",
      "Selecting previously unselected package libteckit0:amd64.\r\n",
      "Preparing to unpack .../21-libteckit0_2.5.11+ds1-1_amd64.deb ...\r\n",
      "Unpacking libteckit0:amd64 (2.5.11+ds1-1) ...\r\n",
      "Selecting previously unselected package libtexlua53:amd64.\r\n",
      "Preparing to unpack .../22-libtexlua53_2021.20210626.59705-1ubuntu0.2_amd64.deb ...\r\n",
      "Unpacking libtexlua53:amd64 (2021.20210626.59705-1ubuntu0.2) ...\r\n",
      "Selecting previously unselected package libtexluajit2:amd64.\r\n",
      "Preparing to unpack .../23-libtexluajit2_2021.20210626.59705-1ubuntu0.2_amd64.deb ...\r\n",
      "Unpacking libtexluajit2:amd64 (2021.20210626.59705-1ubuntu0.2) ...\r\n",
      "Selecting previously unselected package libzzip-0-13:amd64.\r\n",
      "Preparing to unpack .../24-libzzip-0-13_0.13.72+dfsg.1-1.1_amd64.deb ...\r\n",
      "Unpacking libzzip-0-13:amd64 (0.13.72+dfsg.1-1.1) ...\r\n",
      "Selecting previously unselected package lmodern.\r\n",
      "Preparing to unpack .../25-lmodern_2.004.5-6.1_all.deb ...\r\n",
      "Unpacking lmodern (2.004.5-6.1) ...\r\n",
      "Selecting previously unselected package preview-latex-style.\r\n",
      "Preparing to unpack .../26-preview-latex-style_12.2-1ubuntu1_all.deb ...\r\n",
      "Unpacking preview-latex-style (12.2-1ubuntu1) ...\r\n",
      "Selecting previously unselected package t1utils.\r\n",
      "Preparing to unpack .../27-t1utils_1.41-4build2_amd64.deb ...\r\n",
      "Unpacking t1utils (1.41-4build2) ...\r\n",
      "Selecting previously unselected package tex-gyre.\r\n",
      "Preparing to unpack .../28-tex-gyre_20180621-3.1_all.deb ...\r\n",
      "Unpacking tex-gyre (20180621-3.1) ...\r\n",
      "Selecting previously unselected package texlive-binaries.\r\n",
      "Preparing to unpack .../29-texlive-binaries_2021.20210626.59705-1ubuntu0.2_amd64.deb ...\r\n",
      "Unpacking texlive-binaries (2021.20210626.59705-1ubuntu0.2) ...\r\n",
      "Selecting previously unselected package texlive-base.\r\n",
      "Preparing to unpack .../30-texlive-base_2021.20220204-1_all.deb ...\r\n",
      "Unpacking texlive-base (2021.20220204-1) ...\r\n",
      "Selecting previously unselected package texlive-fonts-recommended.\r\n",
      "Preparing to unpack .../31-texlive-fonts-recommended_2021.20220204-1_all.deb ...\r\n",
      "Unpacking texlive-fonts-recommended (2021.20220204-1) ...\r\n",
      "Selecting previously unselected package texlive-latex-base.\r\n",
      "Preparing to unpack .../32-texlive-latex-base_2021.20220204-1_all.deb ...\r\n",
      "Unpacking texlive-latex-base (2021.20220204-1) ...\r\n",
      "Selecting previously unselected package libfontbox-java.\r\n",
      "Preparing to unpack .../33-libfontbox-java_1%3a1.8.16-2_all.deb ...\r\n",
      "Unpacking libfontbox-java (1:1.8.16-2) ...\r\n",
      "Selecting previously unselected package libpdfbox-java.\r\n",
      "Preparing to unpack .../34-libpdfbox-java_1%3a1.8.16-2_all.deb ...\r\n",
      "Unpacking libpdfbox-java (1:1.8.16-2) ...\r\n",
      "Selecting previously unselected package texlive-latex-recommended.\r\n",
      "Preparing to unpack .../35-texlive-latex-recommended_2021.20220204-1_all.deb ...\r\n",
      "Unpacking texlive-latex-recommended (2021.20220204-1) ...\r\n",
      "Selecting previously unselected package texlive-pictures.\r\n",
      "Preparing to unpack .../36-texlive-pictures_2021.20220204-1_all.deb ...\r\n",
      "Unpacking texlive-pictures (2021.20220204-1) ...\r\n",
      "Selecting previously unselected package texlive-latex-extra.\r\n",
      "Preparing to unpack .../37-texlive-latex-extra_2021.20220204-1_all.deb ...\r\n",
      "Unpacking texlive-latex-extra (2021.20220204-1) ...\r\n",
      "Selecting previously unselected package texlive-plain-generic.\r\n",
      "Preparing to unpack .../38-texlive-plain-generic_2021.20220204-1_all.deb ...\r\n",
      "Unpacking texlive-plain-generic (2021.20220204-1) ...\r\n",
      "Selecting previously unselected package tipa.\r\n",
      "Preparing to unpack .../39-tipa_2%3a1.3-21_all.deb ...\r\n",
      "Unpacking tipa (2:1.3-21) ...\r\n",
      "Setting up fonts-lato (2.0-2.1) ...\r\n",
      "Setting up libwoff1:amd64 (1.0.2-1build4) ...\r\n",
      "Setting up libtexlua53:amd64 (2021.20210626.59705-1ubuntu0.2) ...\r\n",
      "Setting up libtexluajit2:amd64 (2021.20210626.59705-1ubuntu0.2) ...\r\n",
      "Setting up libfontbox-java (1:1.8.16-2) ...\r\n",
      "Setting up rubygems-integration (1.18) ...\r\n",
      "Setting up libzzip-0-13:amd64 (0.13.72+dfsg.1-1.1) ...\r\n",
      "Setting up tex-common (6.17) ...\r\n",
      "update-language: texlive-base not installed and configured, doing nothing!\r\n",
      "Setting up libteckit0:amd64 (2.5.11+ds1-1) ...\r\n",
      "Setting up libapache-pom-java (18-1) ...\r\n",
      "Setting up ruby-net-telnet (0.1.1-2) ...\r\n",
      "Setting up t1utils (1.41-4build2) ...\r\n",
      "Setting up fonts-texgyre (20180621-3.1) ...\r\n",
      "Setting up libkpathsea6:amd64 (2021.20210626.59705-1ubuntu0.2) ...\r\n",
      "Setting up ruby-webrick (1.7.0-3ubuntu0.1) ...\r\n",
      "Setting up fonts-lmodern (2.004.5-6.1) ...\r\n",
      "Setting up ruby-xmlrpc (0.3.2-1ubuntu0.1) ...\r\n",
      "Setting up tex-gyre (20180621-3.1) ...\r\n",
      "Setting up libsynctex2:amd64 (2021.20210626.59705-1ubuntu0.2) ...\r\n",
      "Setting up libpdfbox-java (1:1.8.16-2) ...\r\n",
      "Setting up preview-latex-style (12.2-1ubuntu1) ...\r\n",
      "Setting up libcommons-parent-java (43-1) ...\r\n",
      "Setting up dvisvgm (2.13.1-1) ...\r\n",
      "Setting up libcommons-logging-java (1.2-2) ...\r\n",
      "Setting up libptexenc1:amd64 (2021.20210626.59705-1ubuntu0.2) ...\r\n",
      "Setting up texlive-binaries (2021.20210626.59705-1ubuntu0.2) ...\r\n",
      "update-alternatives: using /usr/bin/xdvi-xaw to provide /usr/bin/xdvi.bin (xdvi.bin) in auto mode\r\n",
      "update-alternatives: using /usr/bin/bibtex.original to provide /usr/bin/bibtex (bibtex) in auto mode\r\n",
      "Setting up lmodern (2.004.5-6.1) ...\r\n",
      "Setting up texlive-base (2021.20220204-1) ...\r\n",
      "/usr/bin/ucfr\r\n",
      "/usr/bin/ucfr\r\n",
      "/usr/bin/ucfr\r\n",
      "/usr/bin/ucfr\r\n",
      "mktexlsr: Updating /var/lib/texmf/ls-R-TEXLIVEDIST... \r\n",
      "mktexlsr: Updating /var/lib/texmf/ls-R-TEXMFMAIN... \r\n",
      "mktexlsr: Updating /var/lib/texmf/ls-R... \r\n",
      "mktexlsr: Done.\r\n",
      "tl-paper: setting paper size for dvips to a4: /var/lib/texmf/dvips/config/config-paper.ps\r\n",
      "tl-paper: setting paper size for dvipdfmx to a4: /var/lib/texmf/dvipdfmx/dvipdfmx-paper.cfg\r\n",
      "tl-paper: setting paper size for xdvi to a4: /var/lib/texmf/xdvi/XDvi-paper\r\n",
      "tl-paper: setting paper size for pdftex to a4: /var/lib/texmf/tex/generic/tex-ini-files/pdftexconfig.tex\r\n",
      "Setting up texlive-plain-generic (2021.20220204-1) ...\r\n",
      "Setting up texlive-latex-base (2021.20220204-1) ...\r\n",
      "Setting up texlive-latex-recommended (2021.20220204-1) ...\r\n",
      "Setting up texlive-pictures (2021.20220204-1) ...\r\n",
      "Setting up texlive-fonts-recommended (2021.20220204-1) ...\r\n",
      "Setting up tipa (2:1.3-21) ...\r\n",
      "Setting up texlive-latex-extra (2021.20220204-1) ...\r\n",
      "Setting up libruby3.0:amd64 (3.0.2-7ubuntu2.10) ...\r\n",
      "Setting up ruby3.0 (3.0.2-7ubuntu2.10) ...\r\n",
      "Setting up ruby (1:3.0~exp1) ...\r\n",
      "Setting up rake (13.0.6-2) ...\r\n",
      "Setting up ruby-rubygems (3.3.5-2) ...\r\n",
      "Processing triggers for man-db (2.10.2-1) ...\r\n",
      "Processing triggers for mailcap (3.70+nmu1ubuntu1) ...\r\n",
      "Processing triggers for fontconfig (2.13.1-4.2ubuntu5) ...\r\n",
      "Processing triggers for libc-bin (2.35-0ubuntu3.8) ...\r\n",
      "/sbin/ldconfig.real: /usr/local/lib/libtcm.so.1 is not a symbolic link\r\n",
      "\r\n",
      "/sbin/ldconfig.real: /usr/local/lib/libumf.so.0 is not a symbolic link\r\n",
      "\r\n",
      "/sbin/ldconfig.real: /usr/local/lib/libtcm_debug.so.1 is not a symbolic link\r\n",
      "\r\n",
      "/sbin/ldconfig.real: /usr/local/lib/libhwloc.so.15 is not a symbolic link\r\n",
      "\r\n",
      "/sbin/ldconfig.real: /usr/local/lib/libur_loader.so.0 is not a symbolic link\r\n",
      "\r\n",
      "/sbin/ldconfig.real: /usr/local/lib/libur_adapter_level_zero.so.0 is not a symbolic link\r\n",
      "\r\n",
      "/sbin/ldconfig.real: /usr/local/lib/libur_adapter_opencl.so.0 is not a symbolic link\r\n",
      "\r\n",
      "/sbin/ldconfig.real: /usr/local/lib/libtbbbind_2_5.so.3 is not a symbolic link\r\n",
      "\r\n",
      "/sbin/ldconfig.real: /usr/local/lib/libtbbbind.so.3 is not a symbolic link\r\n",
      "\r\n",
      "/sbin/ldconfig.real: /usr/local/lib/libtbbbind_2_0.so.3 is not a symbolic link\r\n",
      "\r\n",
      "/sbin/ldconfig.real: /usr/local/lib/libtbb.so.12 is not a symbolic link\r\n",
      "\r\n",
      "/sbin/ldconfig.real: /usr/local/lib/libtbbmalloc_proxy.so.2 is not a symbolic link\r\n",
      "\r\n",
      "/sbin/ldconfig.real: /usr/local/lib/libtbbmalloc.so.2 is not a symbolic link\r\n",
      "\r\n",
      "Processing triggers for tex-common (6.17) ...\r\n",
      "Running updmap-sys. This may take some time... done.\r\n",
      "Running mktexlsr /var/lib/texmf ... done.\r\n",
      "Building format(s) --all.\r\n",
      "\tThis may take some time... done.\r\n"
     ]
    }
   ],
   "source": [
    "!pip install -qU google-genai==1.7.0\n",
    "!apt-get update\n",
    "!apt-get install -y texlive-latex-base texlive-latex-extra texlive-fonts-recommended"
   ]
  },
  {
   "cell_type": "markdown",
   "id": "94102243",
   "metadata": {
    "papermill": {
     "duration": 0.01435,
     "end_time": "2025-04-19T08:04:47.327234",
     "exception": false,
     "start_time": "2025-04-19T08:04:47.312884",
     "status": "completed"
    },
    "tags": []
   },
   "source": [
    "## Import Python Libraries\n",
    "\n",
    "We import:\n",
    "* **google.genai**: For communicating with the Gemini API.\n",
    "* **json**: For handling structured resume data.\n",
    "* **IPython.display**: For showing the final PDF and download links in the notebook."
   ]
  },
  {
   "cell_type": "code",
   "execution_count": 2,
   "id": "10b688ed",
   "metadata": {
    "execution": {
     "iopub.execute_input": "2025-04-19T08:04:47.361472Z",
     "iopub.status.busy": "2025-04-19T08:04:47.360636Z",
     "iopub.status.idle": "2025-04-19T08:04:48.634032Z",
     "shell.execute_reply": "2025-04-19T08:04:48.633078Z"
    },
    "papermill": {
     "duration": 1.292465,
     "end_time": "2025-04-19T08:04:48.635797",
     "exception": false,
     "start_time": "2025-04-19T08:04:47.343332",
     "status": "completed"
    },
    "tags": []
   },
   "outputs": [],
   "source": [
    "import google.genai as genai\n",
    "from google.genai import types\n",
    "import json\n",
    "from IPython.display import Markdown, display, IFrame, FileLink"
   ]
  },
  {
   "cell_type": "markdown",
   "id": "6a416b28",
   "metadata": {
    "papermill": {
     "duration": 0.016264,
     "end_time": "2025-04-19T08:04:48.666928",
     "exception": false,
     "start_time": "2025-04-19T08:04:48.650664",
     "status": "completed"
    },
    "tags": []
   },
   "source": [
    "## Configure Google Gemini API Key\n",
    "\n",
    "The Gemini API key is securely loaded from Kaggle Secrets."
   ]
  },
  {
   "cell_type": "code",
   "execution_count": 3,
   "id": "24902dcd",
   "metadata": {
    "execution": {
     "iopub.execute_input": "2025-04-19T08:04:48.700818Z",
     "iopub.status.busy": "2025-04-19T08:04:48.700249Z",
     "iopub.status.idle": "2025-04-19T08:04:49.355148Z",
     "shell.execute_reply": "2025-04-19T08:04:49.353977Z"
    },
    "papermill": {
     "duration": 0.673021,
     "end_time": "2025-04-19T08:04:49.357289",
     "exception": false,
     "start_time": "2025-04-19T08:04:48.684268",
     "status": "completed"
    },
    "tags": []
   },
   "outputs": [],
   "source": [
    "from kaggle_secrets import UserSecretsClient\n",
    "\n",
    "GOOGLE_API_KEY = UserSecretsClient().get_secret(\"GOOGLE_API_KEY\")\n",
    "client = genai.Client(api_key=GOOGLE_API_KEY)"
   ]
  },
  {
   "cell_type": "markdown",
   "id": "c81fc805",
   "metadata": {
    "papermill": {
     "duration": 0.014432,
     "end_time": "2025-04-19T08:04:49.387431",
     "exception": false,
     "start_time": "2025-04-19T08:04:49.372999",
     "status": "completed"
    },
    "tags": []
   },
   "source": [
    "## Provide Your Resume Text\n",
    "\n",
    "Paste your resume here in plain text format. The AI will extract all relevant information from this text, so you don’t need to worry about formatting or structure.\n",
    "\n",
    "A sample text is given, but it does not have to be in same format. **Gemini** can handle long context, so even if you have multipage resume, it shouldn't be a problem."
   ]
  },
  {
   "cell_type": "code",
   "execution_count": 4,
   "id": "1d8992e3",
   "metadata": {
    "execution": {
     "iopub.execute_input": "2025-04-19T08:04:49.418318Z",
     "iopub.status.busy": "2025-04-19T08:04:49.417988Z",
     "iopub.status.idle": "2025-04-19T08:04:49.423491Z",
     "shell.execute_reply": "2025-04-19T08:04:49.422598Z"
    },
    "papermill": {
     "duration": 0.022901,
     "end_time": "2025-04-19T08:04:49.424978",
     "exception": false,
     "start_time": "2025-04-19T08:04:49.402077",
     "status": "completed"
    },
    "tags": []
   },
   "outputs": [],
   "source": [
    "resume_text = \"\"\"\n",
    "John Doe\n",
    "john.doe@email.com\n",
    "(555) 555-5555\n",
    "linkedin.com/in/johndoe\n",
    "github.com/johndoe\n",
    "\n",
    "Objective: I’m a data scientist looking to use data to solve real-world problems. Skilled in machine learning, data analysis, and building models to make sense of big data. I want to use my skills to help organizations make data-driven decisions.\n",
    "\n",
    "Education: M.S. in Data Science, XYZ University, 2022. B.S. in Computer Science, ABC University, 2020.\n",
    "\n",
    "Skills: Python, R, SQL, Java, Pandas, NumPy, Scikit-learn, TensorFlow, Keras, XGBoost, Matplotlib, Seaborn, Tableau, MySQL, PostgreSQL, MongoDB, Git, Jupyter, Docker, Hadoop, AWS, Google Cloud.\n",
    "\n",
    "Experience: Data Scientist Intern, XYZ Tech Company, 2021. Analyzed customer data to identify behavior patterns and trends. Built machine learning models to predict customer churn. Created data visualizations and dashboards using Tableau for internal teams. Data Analyst, ABC Analytics, 2020. Extracted, cleaned, and analyzed data using SQL and Python. Developed reports and visualizations to provide actionable insights for clients. Built a predictive model for sales forecasting using linear regression.\n",
    "\n",
    "Projects: Customer Segmentation - Applied K-Means clustering to segment customers based on purchasing behavior. Sales Forecasting Model - Built a linear regression model to predict future sales with 85% accuracy. Sentiment Analysis on Social Media Data - Used NLP techniques to analyze social media posts for sentiment.\n",
    "\n",
    "Certifications: Data Science Specialization (Coursera). Machine Learning by Andrew Ng (Coursera). AWS Certified Machine Learning - Specialty.\n",
    "\n",
    "Interests: Kaggle competitions, Open-source contributions, Hiking, Photography, Blogging about data science.\n",
    "\"\"\""
   ]
  },
  {
   "cell_type": "markdown",
   "id": "b5658a22",
   "metadata": {
    "papermill": {
     "duration": 0.014414,
     "end_time": "2025-04-19T08:04:49.454321",
     "exception": false,
     "start_time": "2025-04-19T08:04:49.439907",
     "status": "completed"
    },
    "tags": []
   },
   "source": [
    "## Upload and Load Your Desired LaTeX Resume Template\n",
    "\n",
    "Upload a sample LaTeX template that matches the style you want for your resume. The AI will use this as a reference to generate your new resume. \n",
    "\n",
    "### To use your own template\n",
    "You can upload your LaTeX template in google drive with share to \"anyone with link\".\n",
    "Then paste the share link below, replacing the existing one.\n",
    "\n",
    "**NOTE**: The file name should be **sample_resume.tex**"
   ]
  },
  {
   "cell_type": "code",
   "execution_count": 5,
   "id": "19aee34a",
   "metadata": {
    "execution": {
     "iopub.execute_input": "2025-04-19T08:04:49.485323Z",
     "iopub.status.busy": "2025-04-19T08:04:49.484832Z",
     "iopub.status.idle": "2025-04-19T08:04:53.969097Z",
     "shell.execute_reply": "2025-04-19T08:04:53.967614Z"
    },
    "papermill": {
     "duration": 4.502312,
     "end_time": "2025-04-19T08:04:53.971334",
     "exception": false,
     "start_time": "2025-04-19T08:04:49.469022",
     "status": "completed"
    },
    "tags": []
   },
   "outputs": [
    {
     "name": "stdout",
     "output_type": "stream",
     "text": [
      "Downloading...\r\n",
      "From: https://drive.google.com/uc?id=18SlVKUNXechAByZwIS4VvPxJ3p2O5kj2\r\n",
      "To: /kaggle/working/sample_resume.tex\r\n",
      "100%|██████████████████████████████████████| 7.87k/7.87k [00:00<00:00, 18.7MB/s]\r\n"
     ]
    }
   ],
   "source": [
    "!gdown --fuzzy \"https://drive.google.com/file/d/18SlVKUNXechAByZwIS4VvPxJ3p2O5kj2/view?usp=drive_link\"\n",
    "\n",
    "with open('sample_resume.tex') as f:\n",
    "    latex_template = f.read()"
   ]
  },
  {
   "cell_type": "markdown",
   "id": "7b8c720b",
   "metadata": {
    "papermill": {
     "duration": 0.015319,
     "end_time": "2025-04-19T08:04:54.002505",
     "exception": false,
     "start_time": "2025-04-19T08:04:53.987186",
     "status": "completed"
    },
    "tags": []
   },
   "source": [
    "## Build the Resume Parsing Prompt\n",
    "\n",
    "We prepare a detailed prompt for Gemini, specifying the fields to extract (name, contact, education, experience, etc.) and providing an example. This helps the AI accurately convert your raw text into structured JSON data."
   ]
  },
  {
   "cell_type": "code",
   "execution_count": 6,
   "id": "57690352",
   "metadata": {
    "execution": {
     "iopub.execute_input": "2025-04-19T08:04:54.037443Z",
     "iopub.status.busy": "2025-04-19T08:04:54.037089Z",
     "iopub.status.idle": "2025-04-19T08:04:54.043175Z",
     "shell.execute_reply": "2025-04-19T08:04:54.042245Z"
    },
    "papermill": {
     "duration": 0.026286,
     "end_time": "2025-04-19T08:04:54.044993",
     "exception": false,
     "start_time": "2025-04-19T08:04:54.018707",
     "status": "completed"
    },
    "tags": []
   },
   "outputs": [],
   "source": [
    "prompt = f\"\"\"\n",
    "You are a precise and flexible resume parser.\n",
    "\n",
    "Convert the following resume into structured JSON with these fields:\n",
    "\n",
    "- name\n",
    "- contact: {{email, phone, linkedin, github, website}}\n",
    "- summary (if present, otherwise empty string)\n",
    "- education: list of {{degree, university, year, gpa (if present)}}\n",
    "- experience: list of {{title, company, location (if present), years, descriptions (list of bullet points)}}\n",
    "- skills: {{technical (list), soft (list if present), languages (list if present)}}\n",
    "- projects (if present): list of {{name, description, technologies}}\n",
    "- other_sections (if present): dictionary where keys are section names (like 'Certifications', 'Awards', 'Publications', etc.) and values are lists of strings or key-value objects where appropriate.\n",
    "\n",
    "Any information not fitting the core fields should go into `other_sections`.\n",
    "\n",
    "For missing information, use empty strings or empty lists.\n",
    "\n",
    "Here is an example:\n",
    "\n",
    "Resume:\n",
    "Jane Smith  \n",
    "Email: jane@example.com  \n",
    "Phone: 555-321-9876  \n",
    "LinkedIn: linkedin.com/in/janesmith  \n",
    "GitHub: github.com/janesmith  \n",
    "\n",
    "Education:  \n",
    "M.Sc. in Data Science, ABC University, 2021  \n",
    "\n",
    "Experience:  \n",
    "- Data Scientist at XYZ Corp (2021–2023)  \n",
    "  Led model development for customer churn prediction using Python and scikit-learn.  \n",
    "  Improved accuracy by 15% through hyperparameter tuning.  \n",
    "  Deployed models using Docker and Flask APIs.  \n",
    "\n",
    "Skills:  \n",
    "Python, Machine Learning, Pandas, Docker, Flask  \n",
    "\n",
    "Projects:  \n",
    "- Customer Churn Predictor  \n",
    "  Developed a model to predict churn with 85% accuracy using historical behavior data.  \n",
    "  Technologies: Python, scikit-learn, pandas  \n",
    "\n",
    "Certifications:  \n",
    "- AWS Certified Machine Learning – Specialty  \n",
    "\n",
    "---\n",
    "\n",
    "Now parse the following resume:\n",
    "\n",
    "Resume:\n",
    "{resume_text}\n",
    "\"\"\"\n"
   ]
  },
  {
   "cell_type": "markdown",
   "id": "644ae22b",
   "metadata": {
    "papermill": {
     "duration": 0.016167,
     "end_time": "2025-04-19T08:04:54.077750",
     "exception": false,
     "start_time": "2025-04-19T08:04:54.061583",
     "status": "completed"
    },
    "tags": []
   },
   "source": [
    "## Parse Resume Text into Structured Data\n",
    "\n",
    "We use the **gemini-1.5-pro-latest** to convert raw text to json. MIME type json is used to get a pure json output."
   ]
  },
  {
   "cell_type": "code",
   "execution_count": 7,
   "id": "2eff400a",
   "metadata": {
    "execution": {
     "iopub.execute_input": "2025-04-19T08:04:54.111170Z",
     "iopub.status.busy": "2025-04-19T08:04:54.110204Z",
     "iopub.status.idle": "2025-04-19T08:05:00.885635Z",
     "shell.execute_reply": "2025-04-19T08:05:00.884540Z"
    },
    "papermill": {
     "duration": 6.794267,
     "end_time": "2025-04-19T08:05:00.887708",
     "exception": false,
     "start_time": "2025-04-19T08:04:54.093441",
     "status": "completed"
    },
    "tags": []
   },
   "outputs": [],
   "source": [
    "response = client.models.generate_content(\n",
    "    model = \"models/gemini-1.5-pro-latest\",\n",
    "    contents=prompt,\n",
    "    config=types.GenerateContentConfig(\n",
    "        temperature=0.2,\n",
    "        response_mime_type=\"application/json\"\n",
    "    )\n",
    ")\n",
    "\n",
    "resume_json = json.loads(response.candidates[0].content.parts[0].text)\n",
    "\n",
    "# Display result\n",
    "# display(Markdown(\"### Structured Resume JSON\"))\n",
    "# print(json.dumps(resume_json, indent=2))"
   ]
  },
  {
   "cell_type": "markdown",
   "id": "00bb4202",
   "metadata": {
    "papermill": {
     "duration": 0.016025,
     "end_time": "2025-04-19T08:05:00.919743",
     "exception": false,
     "start_time": "2025-04-19T08:05:00.903718",
     "status": "completed"
    },
    "tags": []
   },
   "source": [
    "## Build the LaTeX Generation Prompt\n",
    "\n",
    "We instruct Gemini to use your structured resume data and the uploaded LaTeX template to generate a complete, ready-to-compile LaTeX document. The AI ensures the output matches your chosen style and includes all your information.\n"
   ]
  },
  {
   "cell_type": "code",
   "execution_count": 8,
   "id": "c9b681d4",
   "metadata": {
    "execution": {
     "iopub.execute_input": "2025-04-19T08:05:00.953274Z",
     "iopub.status.busy": "2025-04-19T08:05:00.952886Z",
     "iopub.status.idle": "2025-04-19T08:05:00.958849Z",
     "shell.execute_reply": "2025-04-19T08:05:00.957640Z"
    },
    "papermill": {
     "duration": 0.024632,
     "end_time": "2025-04-19T08:05:00.960609",
     "exception": false,
     "start_time": "2025-04-19T08:05:00.935977",
     "status": "completed"
    },
    "tags": []
   },
   "outputs": [],
   "source": [
    "resume_latex_prompt = f\"\"\"\n",
    "You are a LaTeX resume generator. I have given you a resume template and a resume JSON.\n",
    "\n",
    "{json.dumps(resume_json)}\n",
    "\n",
    "Please format it using the following LaTeX template as inspiration:\n",
    "\n",
    "{latex_template}\n",
    "\n",
    "Generate a complete, well-formatted LaTeX document starting with \\documentclass that follows the style of the template while incorporating all the information from the JSON data. The output should be ready to compile into a PDF. \n",
    "Return only raw LaTeX code without wrapping it in triple backticks or Markdown formatting. Do not prefix the code with ```latex or anything else. Start with \\documentclass....\n",
    "Only include sections if they contain at least one experience, project, or education entry. Do not include empty LaTeX environments with no items.\n",
    "\"\"\""
   ]
  },
  {
   "cell_type": "markdown",
   "id": "aafbd990",
   "metadata": {
    "papermill": {
     "duration": 0.015011,
     "end_time": "2025-04-19T08:05:01.058389",
     "exception": false,
     "start_time": "2025-04-19T08:05:01.043378",
     "status": "completed"
    },
    "tags": []
   },
   "source": [
    "## Generate Your LaTeX Resume\n",
    "\n",
    "Gemini creates a new LaTeX resume document, formatted according to your template."
   ]
  },
  {
   "cell_type": "code",
   "execution_count": 9,
   "id": "a5e14e40",
   "metadata": {
    "execution": {
     "iopub.execute_input": "2025-04-19T08:05:01.090305Z",
     "iopub.status.busy": "2025-04-19T08:05:01.089935Z",
     "iopub.status.idle": "2025-04-19T08:05:19.165478Z",
     "shell.execute_reply": "2025-04-19T08:05:19.164660Z"
    },
    "papermill": {
     "duration": 18.093501,
     "end_time": "2025-04-19T08:05:19.167107",
     "exception": false,
     "start_time": "2025-04-19T08:05:01.073606",
     "status": "completed"
    },
    "tags": []
   },
   "outputs": [],
   "source": [
    "latex_resume = client.models.generate_content(\n",
    "    contents = resume_latex_prompt, \n",
    "    model = \"models/gemini-1.5-pro-latest\" ).candidates[0].content.parts[0].text\n",
    "\n",
    "with open(\"generated_resume.tex\", \"w\", encoding=\"utf-8\") as f:\n",
    "    f.write(latex_resume)\n",
    "    \n",
    "# display(Markdown(\"### Generated LaTeX Resume\"))\n",
    "# print(latex_resume)"
   ]
  },
  {
   "cell_type": "markdown",
   "id": "1a880d66",
   "metadata": {
    "papermill": {
     "duration": 0.014779,
     "end_time": "2025-04-19T08:05:19.197326",
     "exception": false,
     "start_time": "2025-04-19T08:05:19.182547",
     "status": "completed"
    },
    "tags": []
   },
   "source": [
    "## Compile the LaTeX Resume to PDF\n",
    "\n",
    "We use LaTeX tools to compile the generated document into a PDF. This produces a polished, professional resume you can immediately use."
   ]
  },
  {
   "cell_type": "code",
   "execution_count": 10,
   "id": "b4893ba7",
   "metadata": {
    "execution": {
     "iopub.execute_input": "2025-04-19T08:05:19.229170Z",
     "iopub.status.busy": "2025-04-19T08:05:19.228840Z",
     "iopub.status.idle": "2025-04-19T08:05:19.673889Z",
     "shell.execute_reply": "2025-04-19T08:05:19.672807Z"
    },
    "papermill": {
     "duration": 0.463211,
     "end_time": "2025-04-19T08:05:19.675633",
     "exception": false,
     "start_time": "2025-04-19T08:05:19.212422",
     "status": "completed"
    },
    "tags": []
   },
   "outputs": [
    {
     "name": "stdout",
     "output_type": "stream",
     "text": [
      "This is pdfTeX, Version 3.141592653-2.6-1.40.22 (TeX Live 2022/dev/Debian) (preloaded format=pdflatex)\r\n",
      " restricted \\write18 enabled.\r\n",
      "entering extended mode\r\n",
      "(./generated_resume.tex\r\n",
      "LaTeX2e <2021-11-15> patch level 1\r\n",
      "L3 programming layer <2022-01-21>\r\n",
      "(/usr/share/texlive/texmf-dist/tex/latex/base/article.cls\r\n",
      "Document Class: article 2021/10/04 v1.4n Standard LaTeX document class\r\n",
      "(/usr/share/texlive/texmf-dist/tex/latex/base/size11.clo))\r\n",
      "(/usr/share/texlive/texmf-dist/tex/latex/base/latexsym.sty)\r\n",
      "(/usr/share/texlive/texmf-dist/tex/latex/preprint/fullpage.sty)\r\n",
      "(/usr/share/texlive/texmf-dist/tex/latex/titlesec/titlesec.sty)\r\n",
      "(/usr/share/texlive/texmf-dist/tex/latex/marvosym/marvosym.sty)\r\n",
      "(/usr/share/texlive/texmf-dist/tex/latex/graphics/color.sty\r\n",
      "(/usr/share/texlive/texmf-dist/tex/latex/graphics-cfg/color.cfg)\r\n",
      "(/usr/share/texlive/texmf-dist/tex/latex/graphics-def/pdftex.def)\r\n",
      "(/usr/share/texlive/texmf-dist/tex/latex/graphics/dvipsnam.def))\r\n",
      "(/usr/share/texlive/texmf-dist/tex/latex/tools/verbatim.sty)\r\n",
      "(/usr/share/texlive/texmf-dist/tex/latex/enumitem/enumitem.sty)\r\n",
      "(/usr/share/texlive/texmf-dist/tex/latex/hyperref/hyperref.sty\r\n",
      "(/usr/share/texlive/texmf-dist/tex/generic/ltxcmds/ltxcmds.sty)\r\n",
      "(/usr/share/texlive/texmf-dist/tex/generic/iftex/iftex.sty)\r\n",
      "(/usr/share/texlive/texmf-dist/tex/generic/pdftexcmds/pdftexcmds.sty\r\n",
      "(/usr/share/texlive/texmf-dist/tex/generic/infwarerr/infwarerr.sty))\r\n",
      "(/usr/share/texlive/texmf-dist/tex/latex/graphics/keyval.sty)\r\n",
      "(/usr/share/texlive/texmf-dist/tex/generic/kvsetkeys/kvsetkeys.sty)\r\n",
      "(/usr/share/texlive/texmf-dist/tex/generic/kvdefinekeys/kvdefinekeys.sty)\r\n",
      "(/usr/share/texlive/texmf-dist/tex/generic/pdfescape/pdfescape.sty)\r\n",
      "(/usr/share/texlive/texmf-dist/tex/latex/hycolor/hycolor.sty)\r\n",
      "(/usr/share/texlive/texmf-dist/tex/latex/letltxmacro/letltxmacro.sty)\r\n",
      "(/usr/share/texlive/texmf-dist/tex/latex/auxhook/auxhook.sty)\r\n",
      "(/usr/share/texlive/texmf-dist/tex/latex/kvoptions/kvoptions.sty)\r\n",
      "(/usr/share/texlive/texmf-dist/tex/latex/hyperref/pd1enc.def)\r\n",
      "(/usr/share/texlive/texmf-dist/tex/latex/hyperref/hyperref-langpatches.def)\r\n",
      "(/usr/share/texlive/texmf-dist/tex/generic/intcalc/intcalc.sty)\r\n",
      "(/usr/share/texlive/texmf-dist/tex/generic/etexcmds/etexcmds.sty)\r\n",
      "(/usr/share/texlive/texmf-dist/tex/latex/hyperref/puenc.def)\r\n",
      "(/usr/share/texlive/texmf-dist/tex/latex/url/url.sty)\r\n",
      "(/usr/share/texlive/texmf-dist/tex/generic/bitset/bitset.sty\r\n",
      "(/usr/share/texlive/texmf-dist/tex/generic/bigintcalc/bigintcalc.sty))\r\n",
      "(/usr/share/texlive/texmf-dist/tex/latex/base/atbegshi-ltx.sty))\r\n",
      "(/usr/share/texlive/texmf-dist/tex/latex/hyperref/hpdftex.def\r\n",
      "(/usr/share/texlive/texmf-dist/tex/latex/base/atveryend-ltx.sty)\r\n",
      "(/usr/share/texlive/texmf-dist/tex/latex/rerunfilecheck/rerunfilecheck.sty\r\n",
      "(/usr/share/texlive/texmf-dist/tex/generic/uniquecounter/uniquecounter.sty)))\r\n",
      "(/usr/share/texlive/texmf-dist/tex/latex/fancyhdr/fancyhdr.sty)\r\n",
      "(/usr/share/texlive/texmf-dist/tex/generic/babel/babel.sty\r\n",
      "(/usr/share/texlive/texmf-dist/tex/generic/babel/txtbabel.def)\r\n",
      "(/usr/share/texlive/texmf-dist/tex/generic/babel-english/english.ldf))\r\n",
      "(/usr/share/texlive/texmf-dist/tex/latex/tools/tabularx.sty\r\n",
      "(/usr/share/texlive/texmf-dist/tex/latex/tools/array.sty))\r\n",
      "(/usr/share/texlive/texmf-dist/tex/generic/pdftex/glyphtounicode.tex)\r\n",
      "(/usr/share/texlive/texmf-dist/tex/latex/l3backend/l3backend-pdftex.def)\r\n",
      "No file generated_resume.aux.\r\n",
      "(/usr/share/texlive/texmf-dist/tex/context/base/mkii/supp-pdf.mkii\r\n",
      "[Loading MPS to PDF converter (version 2006.09.02).]\r\n",
      ") (/usr/share/texlive/texmf-dist/tex/latex/hyperref/nameref.sty\r\n",
      "(/usr/share/texlive/texmf-dist/tex/latex/refcount/refcount.sty)\r\n",
      "(/usr/share/texlive/texmf-dist/tex/generic/gettitlestring/gettitlestring.sty))\r\n",
      "\r\n",
      "LaTeX Font Warning: Font shape `OT1/cmr/bx/sc' undefined\r\n",
      "(Font)              using `OT1/cmr/bx/n' instead on input line 85.\r\n",
      "\r\n",
      "(/usr/share/texlive/texmf-dist/tex/latex/base/ulasy.fd)\r\n",
      "\r\n",
      "Package fancyhdr Warning: \\footskip is too small (0.0pt): \r\n",
      "(fancyhdr)                Make it at least 4.08003pt, for example:\r\n",
      "(fancyhdr)                \\setlength{\\footskip}{4.08003pt}.\r\n",
      "\r\n",
      "[1{/var/lib/texmf/fonts/map/pdftex/updmap/pdftex.map}] (./generated_resume.aux)\r\n",
      "\r\n",
      "\r\n",
      "LaTeX Font Warning: Some font shapes were not available, defaults substituted.\r\n",
      "\r\n",
      "\r\n",
      "Package rerunfilecheck Warning: File `generated_resume.out' has changed.\r\n",
      "(rerunfilecheck)                Rerun to get outlines right\r\n",
      "(rerunfilecheck)                or use package `bookmark'.\r\n",
      "\r\n",
      " )</usr/share/texlive/texmf-dist/fonts/type1/public/amsfonts/cm/cmbx10.pfb></us\r\n",
      "r/share/texlive/texmf-dist/fonts/type1/public/amsfonts/cm/cmbx12.pfb></usr/shar\r\n",
      "e/texlive/texmf-dist/fonts/type1/public/amsfonts/cm/cmcsc10.pfb></usr/share/tex\r\n",
      "live/texmf-dist/fonts/type1/public/amsfonts/cm/cmr10.pfb></usr/share/texlive/te\r\n",
      "xmf-dist/fonts/type1/public/amsfonts/cm/cmsy10.pfb></usr/share/texlive/texmf-di\r\n",
      "st/fonts/type1/public/amsfonts/cm/cmsy6.pfb></usr/share/texlive/texmf-dist/font\r\n",
      "s/type1/public/amsfonts/cm/cmti10.pfb>\r\n",
      "Output written on generated_resume.pdf (1 page, 89030 bytes).\r\n",
      "Transcript written on generated_resume.log.\r\n"
     ]
    }
   ],
   "source": [
    "!pdflatex generated_resume.tex"
   ]
  },
  {
   "cell_type": "markdown",
   "id": "754c3292",
   "metadata": {
    "papermill": {
     "duration": 0.01749,
     "end_time": "2025-04-19T08:05:19.708759",
     "exception": false,
     "start_time": "2025-04-19T08:05:19.691269",
     "status": "completed"
    },
    "tags": []
   },
   "source": [
    "## View and Download Your New Resume\n",
    "\n",
    "Preview your generated PDF resume directly in the notebook, and download it for job applications or further customization."
   ]
  },
  {
   "cell_type": "code",
   "execution_count": 11,
   "id": "0ed5e168",
   "metadata": {
    "execution": {
     "iopub.execute_input": "2025-04-19T08:05:19.742547Z",
     "iopub.status.busy": "2025-04-19T08:05:19.741694Z",
     "iopub.status.idle": "2025-04-19T08:05:19.752811Z",
     "shell.execute_reply": "2025-04-19T08:05:19.751939Z"
    },
    "papermill": {
     "duration": 0.030269,
     "end_time": "2025-04-19T08:05:19.754450",
     "exception": false,
     "start_time": "2025-04-19T08:05:19.724181",
     "status": "completed"
    },
    "tags": []
   },
   "outputs": [
    {
     "data": {
      "text/html": [
       "\n",
       "        <iframe\n",
       "            width=\"600\"\n",
       "            height=\"800\"\n",
       "            src=\"generated_resume.pdf\"\n",
       "            frameborder=\"0\"\n",
       "            allowfullscreen\n",
       "            \n",
       "        ></iframe>\n",
       "        "
      ],
      "text/plain": [
       "<IPython.lib.display.IFrame at 0x7cc5a378bb50>"
      ]
     },
     "metadata": {},
     "output_type": "display_data"
    },
    {
     "data": {
      "text/html": [
       "<a href='generated_resume.pdf' target='_blank'>generated_resume.pdf</a><br>"
      ],
      "text/plain": [
       "/kaggle/working/generated_resume.pdf"
      ]
     },
     "metadata": {},
     "output_type": "display_data"
    },
    {
     "data": {
      "text/html": [
       "<a href='generated_resume.tex' target='_blank'>generated_resume.tex</a><br>"
      ],
      "text/plain": [
       "/kaggle/working/generated_resume.tex"
      ]
     },
     "metadata": {},
     "output_type": "display_data"
    }
   ],
   "source": [
    "display(IFrame(\"generated_resume.pdf\", width=600, height=800))\n",
    "display(FileLink(r'generated_resume.pdf'))\n",
    "display(FileLink(r'generated_resume.tex'))"
   ]
  },
  {
   "cell_type": "markdown",
   "id": "d5bdcef1",
   "metadata": {
    "papermill": {
     "duration": 0.015776,
     "end_time": "2025-04-19T08:05:19.786879",
     "exception": false,
     "start_time": "2025-04-19T08:05:19.771103",
     "status": "completed"
    },
    "tags": []
   },
   "source": [
    "## Conclusion\n",
    "\n",
    "This notebook solves the problem of resume formatting for applicants by automating the process end-to-end. With GenAI, you can instantly convert raw text into a professional resume in any LaTeX style—just by uploading your template—without ever touching LaTeX code. This approach makes resume creation and reformatting fast, accessible, and hassle-free for everyone.\n",
    "\n",
    "## Future Enhancements\n",
    "\n",
    "While this notebook streamlines resume creation and LaTeX formatting for applicants, several enhancements could further improve usability, flexibility, and the power of the workflow:\n",
    "\n",
    "* **Template Marketplace & Customization:**  \n",
    "  Allow users to browse, preview, and select from a library of LaTeX templates.\n",
    "* **Support for Additional Input Formats:**  \n",
    "  Enable importing resumes from DOCX, PDF, or LinkedIn profiles, not just plain text, for broader accessibility.\n",
    "* **Multilingual Support and Translation:**  \n",
    "  Add AI-powered translation to create resumes in multiple languages for international applications.\n"
   ]
  },
  {
   "cell_type": "code",
   "execution_count": null,
   "id": "61ebb8d0",
   "metadata": {
    "papermill": {
     "duration": 0.017062,
     "end_time": "2025-04-19T08:05:19.819892",
     "exception": false,
     "start_time": "2025-04-19T08:05:19.802830",
     "status": "completed"
    },
    "tags": []
   },
   "outputs": [],
   "source": []
  }
 ],
 "metadata": {
  "kaggle": {
   "accelerator": "none",
   "dataSources": [],
   "dockerImageVersionId": 31012,
   "isGpuEnabled": false,
   "isInternetEnabled": true,
   "language": "python",
   "sourceType": "notebook"
  },
  "kernelspec": {
   "display_name": "Python 3",
   "language": "python",
   "name": "python3"
  },
  "language_info": {
   "codemirror_mode": {
    "name": "ipython",
    "version": 3
   },
   "file_extension": ".py",
   "mimetype": "text/x-python",
   "name": "python",
   "nbconvert_exporter": "python",
   "pygments_lexer": "ipython3",
   "version": "3.11.11"
  },
  "papermill": {
   "default_parameters": {},
   "duration": 105.851577,
   "end_time": "2025-04-19T08:05:20.457778",
   "environment_variables": {},
   "exception": null,
   "input_path": "__notebook__.ipynb",
   "output_path": "__notebook__.ipynb",
   "parameters": {},
   "start_time": "2025-04-19T08:03:34.606201",
   "version": "2.6.0"
  }
 },
 "nbformat": 4,
 "nbformat_minor": 5
}
